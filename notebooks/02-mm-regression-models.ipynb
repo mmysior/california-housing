{
 "cells": [
  {
   "cell_type": "code",
   "execution_count": 1,
   "metadata": {},
   "outputs": [],
   "source": [
    "from typing import Tuple\n",
    "import numpy as np\n",
    "import pandas as pd\n",
    "import matplotlib.pyplot as plt\n",
    "import seaborn as sns\n",
    "from sklearn.base import BaseEstimator\n",
    "from sklearn.linear_model import LinearRegression\n",
    "from sklearn.tree import DecisionTreeRegressor\n",
    "from sklearn.ensemble import RandomForestRegressor\n",
    "from sklearn.neighbors import KNeighborsRegressor\n",
    "from sklearn.metrics import mean_squared_error"
   ]
  },
  {
   "cell_type": "code",
   "execution_count": 2,
   "metadata": {},
   "outputs": [],
   "source": [
    "# Load the data\n",
    "X_train = pd.read_csv('../data/processed/X_train_preprocessed.csv')\n",
    "X_test = pd.read_csv('../data/processed/X_test_preprocessed.csv')\n",
    "Y_train = pd.read_csv('../data/processed/Y_train.csv')\n",
    "Y_test = pd.read_csv('../data/processed/Y_test.csv')"
   ]
  },
  {
   "cell_type": "code",
   "execution_count": 3,
   "metadata": {},
   "outputs": [],
   "source": [
    "def run_regression(\n",
    "    model: BaseEstimator,\n",
    "    X_train: pd.DataFrame,\n",
    "    X_test: pd.DataFrame,\n",
    "    Y_train: pd.DataFrame,\n",
    "    Y_test: pd.DataFrame\n",
    ") -> Tuple[float, float]:\n",
    "    \"\"\"\n",
    "    Run a regression model and calculate RMSE for training and test sets.\n",
    "\n",
    "    Args:\n",
    "        model (BaseEstimator): The regression model to be trained and evaluated.\n",
    "        X_train (pd.DataFrame): Training features.\n",
    "        X_test (pd.DataFrame): Test features.\n",
    "        Y_train (pd.DataFrame): Training target values.\n",
    "        Y_test (pd.DataFrame): Test target values.\n",
    "\n",
    "    Returns:\n",
    "        Tuple[float, float]: A tuple containing the RMSE for training and test sets.\n",
    "    \"\"\"\n",
    "    # Fit the model\n",
    "    model.fit(X_train, Y_train.values.ravel())\n",
    "    \n",
    "    # Make predictions\n",
    "    y_train_pred = model.predict(X_train)\n",
    "    y_test_pred = model.predict(X_test)\n",
    "    \n",
    "    # Calculate RMSE\n",
    "    train_rmse = np.sqrt(mean_squared_error(Y_train, y_train_pred))\n",
    "    test_rmse = np.sqrt(mean_squared_error(Y_test, y_test_pred))\n",
    "    \n",
    "    return train_rmse, test_rmse"
   ]
  },
  {
   "cell_type": "code",
   "execution_count": 4,
   "metadata": {},
   "outputs": [],
   "source": [
    "# Define the models\n",
    "regression_models = {\n",
    "    'Linear Regression': LinearRegression(),\n",
    "    'Decision Tree': DecisionTreeRegressor(random_state=42),\n",
    "    'Random Forest': RandomForestRegressor(n_estimators=100, random_state=42),\n",
    "    'K-Nearest Neighbors': KNeighborsRegressor(n_neighbors=5)\n",
    "}"
   ]
  },
  {
   "cell_type": "code",
   "execution_count": 5,
   "metadata": {},
   "outputs": [
    {
     "name": "stdout",
     "output_type": "stream",
     "text": [
      "                 Model  Train RMSE   Test RMSE\n",
      "0    Linear Regression  56879.1819  56858.0775\n",
      "1        Decision Tree      0.0000  58844.8766\n",
      "2        Random Forest  16444.9170  42949.1010\n",
      "3  K-Nearest Neighbors  43337.6150  52830.1813\n"
     ]
    }
   ],
   "source": [
    "# Initialize lists to store results\n",
    "model_names = []\n",
    "train_rmse_scores = []\n",
    "test_rmse_scores = []\n",
    "\n",
    "# Run each regression model and collect results\n",
    "for name, model in regression_models.items():\n",
    "    train_rmse, test_rmse = run_regression(model, X_train, X_test, Y_train, Y_test)\n",
    "    model_names.append(name)\n",
    "    train_rmse_scores.append(round(train_rmse, 4))\n",
    "    test_rmse_scores.append(round(test_rmse, 4))\n",
    "\n",
    "# Create DataFrame with results\n",
    "results_df = pd.DataFrame({\n",
    "    'Model': model_names,\n",
    "    'Train RMSE': train_rmse_scores,\n",
    "    'Test RMSE': test_rmse_scores\n",
    "})\n",
    "\n",
    "# Display the results\n",
    "print(results_df)"
   ]
  },
  {
   "cell_type": "code",
   "execution_count": 6,
   "metadata": {},
   "outputs": [
    {
     "data": {
      "image/png": "[encoded data removed]",
      "text/plain": [
       "<Figure size 600x300 with 1 Axes>"
      ]
     },
     "metadata": {},
     "output_type": "display_data"
    }
   ],
   "source": [
    "# Create the plot\n",
    "plt.figure(figsize=(6, 3))\n",
    "sns.set_style(\"whitegrid\")\n",
    "\n",
    "# Reshape the data for seaborn\n",
    "plot_data = results_df.melt(id_vars=['Model'], var_name='RMSE Type', value_name='RMSE')\n",
    "\n",
    "# Create the grouped bar plot\n",
    "ax = sns.barplot(y='Model', x='RMSE', hue='RMSE Type', data=plot_data, palette='viridis')\n",
    "\n",
    "# Customize the plot\n",
    "plt.xlabel('')\n",
    "plt.ylabel('')\n",
    "\n",
    "# Place the legend below the plot, in a single row\n",
    "plt.legend(bbox_to_anchor=(0.5, -0.15), loc='upper center', ncol=2)\n",
    "\n",
    "# Add vertical lines with denser spacing\n",
    "ax.xaxis.grid(True, linestyle='--', which='major', color='grey', alpha=0.7)\n",
    "ax.xaxis.grid(True, linestyle=':', which='minor', color='grey', alpha=0.4)\n",
    "\n",
    "# Adjust layout and display the plot\n",
    "plt.tight_layout()\n",
    "plt.show()\n"
   ]
  }
 ],
 "metadata": {
  "kernelspec": {
   "display_name": "housing-py310",
   "language": "python",
   "name": "python3"
  },
  "language_info": {
   "codemirror_mode": {
    "name": "ipython",
    "version": 3
   },
   "file_extension": ".py",
   "mimetype": "text/x-python",
   "name": "python",
   "nbconvert_exporter": "python",
   "pygments_lexer": "ipython3",
   "version": "3.10.15"
  }
 },
 "nbformat": 4,
 "nbformat_minor": 2
}
